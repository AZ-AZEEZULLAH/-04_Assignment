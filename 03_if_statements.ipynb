{
  "nbformat": 4,
  "nbformat_minor": 0,
  "metadata": {
    "colab": {
      "provenance": [],
      "authorship_tag": "ABX9TyOcG1liRIVjDxy//6YojRr/",
      "include_colab_link": true
    },
    "kernelspec": {
      "name": "python3",
      "display_name": "Python 3"
    },
    "language_info": {
      "name": "python"
    }
  },
  "cells": [
    {
      "cell_type": "markdown",
      "metadata": {
        "id": "view-in-github",
        "colab_type": "text"
      },
      "source": [
        "<a href=\"https://colab.research.google.com/github/AZ-AZEEZULLAH/-04_Assignment/blob/main/03_if_statements.ipynb\" target=\"_parent\"><img src=\"https://colab.research.google.com/assets/colab-badge.svg\" alt=\"Open In Colab\"/></a>"
      ]
    },
    {
      "cell_type": "markdown",
      "source": [
        "# 🔰01 Print Events🔰"
      ],
      "metadata": {
        "id": "6epJnBh0VD7y"
      }
    },
    {
      "cell_type": "code",
      "source": [
        "# 01 print_events\n",
        "def print_events():\n",
        "  for i in range(30):\n",
        "    even = i * 2\n",
        "    print(even)\n",
        "\n",
        "if __name__ == '__main__':\n",
        "  print_events()"
      ],
      "metadata": {
        "colab": {
          "base_uri": "https://localhost:8080/"
        },
        "id": "rWCdPqn6VOxp",
        "outputId": "cfb05b7d-52e6-45e9-f8e7-9bf500728f5e"
      },
      "execution_count": null,
      "outputs": [
        {
          "output_type": "stream",
          "name": "stdout",
          "text": [
            "0\n",
            "2\n",
            "4\n",
            "6\n",
            "8\n",
            "10\n",
            "12\n",
            "14\n",
            "16\n",
            "18\n",
            "20\n",
            "22\n",
            "24\n",
            "26\n",
            "28\n",
            "30\n",
            "32\n",
            "34\n",
            "36\n",
            "38\n",
            "40\n",
            "42\n",
            "44\n",
            "46\n",
            "48\n",
            "50\n",
            "52\n",
            "54\n",
            "56\n",
            "58\n"
          ]
        }
      ]
    },
    {
      "cell_type": "markdown",
      "source": [
        "#🚀02 International Voting Age 🚀"
      ],
      "metadata": {
        "id": "FPm6gAiRWCyB"
      }
    },
    {
      "cell_type": "code",
      "source": [
        "from re import A\n",
        "# 02_international_voting_age\n",
        "PETURKSBOUIPO : int = 16\n",
        "STANLAU :int = 25\n",
        "MAYENGUA :int = 48\n",
        "AGE :int = int(input(\"Enter the age:\"))\n",
        "\n",
        "def international_voting_age():\n",
        "\n",
        "  # VOTE IN_PETURKSBOUIPO\n",
        "  if AGE >= PETURKSBOUIPO:\n",
        "    print(f\"Your age is {AGE} and you can vote in Peturksbouipo\")\n",
        "  else:\n",
        "    print(f\"Your age is {AGE} and you can not vote in Peturksbouipo\")\n",
        "\n",
        "    # VOTE IN_STANLAU\n",
        "\n",
        "  if AGE >= STANLAU:\n",
        "    print(f\"Your age is {AGE} and you can vote in Stanlau\")\n",
        "  else:\n",
        "    print(f\"Your age is {AGE} and you can not vote in Stanlau\")\n",
        "\n",
        "    # VOTE IN_MAYENGUA\n",
        "\n",
        "  if AGE >= MAYENGUA:\n",
        "    print(f\"Your age is {AGE} and you can vote in Mayengua\")\n",
        "  else:\n",
        "    print(f\"Your age is {AGE} and you can not vote in Mayengua\")\n",
        "\n",
        "if __name__ == '__main__':\n",
        "  international_voting_age()"
      ],
      "metadata": {
        "colab": {
          "base_uri": "https://localhost:8080/"
        },
        "id": "lts-BNtYWVCR",
        "outputId": "272c3ca6-1a32-494e-a132-ed4de1bf72d9"
      },
      "execution_count": null,
      "outputs": [
        {
          "output_type": "stream",
          "name": "stdout",
          "text": [
            "Enter the age:45\n",
            "Your age is 45 and you can vote in Peturksbouipo\n",
            "Your age is 45 and you can vote in Stanlau\n",
            "Your age is 45 and you can not vote in Mayengua\n"
          ]
        }
      ]
    },
    {
      "cell_type": "markdown",
      "source": [
        "# 🔰03 Leap Year🔰"
      ],
      "metadata": {
        "id": "fpRBk6MEZkmq"
      }
    },
    {
      "cell_type": "code",
      "source": [
        "# 03_leap_year\n",
        "YEAR :int = int(input(\"Enter the year:\"))\n",
        "\n",
        "def leap_year():\n",
        "  if YEAR % 4 == 0:\n",
        "    if YEAR % 100 == 0:\n",
        "      if YEAR % 400 == 0:\n",
        "        print(f\"{YEAR} is a leap year\")\n",
        "      else:\n",
        "        print(f\"{YEAR} is not a leap year\")\n",
        "    else:\n",
        "      print(f\"{YEAR} is a leap year\")\n",
        "  else:\n",
        "    print(f\"{YEAR} is not a leap year\")\n",
        "\n",
        "\n",
        "if __name__ == '__main__':\n",
        "  leap_year()"
      ],
      "metadata": {
        "colab": {
          "base_uri": "https://localhost:8080/"
        },
        "id": "3e4d2eVrZ0T5",
        "outputId": "9caaf735-652f-4646-a55d-969b704c49d7"
      },
      "execution_count": null,
      "outputs": [
        {
          "output_type": "stream",
          "name": "stdout",
          "text": [
            "Enter the year:2025\n",
            "2025 is not a leap year\n"
          ]
        }
      ]
    },
    {
      "cell_type": "markdown",
      "source": [
        "# 🚀 04Tall Enough To Ride🚀"
      ],
      "metadata": {
        "id": "P9QHKKnObDha"
      }
    },
    {
      "cell_type": "code",
      "source": [
        "# 04_tall_enough_to_ride\n",
        "\n",
        "\n",
        "min_height : int = 40\n",
        "\n",
        "def tall_enough_to_ride():\n",
        "  user : int = int (input(\"How tall are you ?\"))\n",
        "  if user >= min_height:\n",
        "    print(\"You tall are enough to ride\")\n",
        "\n",
        "  else :\n",
        "    print(\"You tall are not enough to ride . May be next year\")\n",
        "if __name__ == '__main__':\n",
        "  tall_enough_to_ride()"
      ],
      "metadata": {
        "colab": {
          "base_uri": "https://localhost:8080/"
        },
        "id": "G4XZRDVcbTiK",
        "outputId": "58b32efb-b3a1-462e-9cea-25251f1ee455"
      },
      "execution_count": null,
      "outputs": [
        {
          "output_type": "stream",
          "name": "stdout",
          "text": [
            "How tall are you ?34\n",
            "You tall are not enough to ride . May be next year\n"
          ]
        }
      ]
    },
    {
      "cell_type": "markdown",
      "source": [
        "# 🔰05 Random Number🔰"
      ],
      "metadata": {
        "id": "BSBh94cOdOwy"
      }
    },
    {
      "cell_type": "code",
      "source": [
        "# 05_random_number\n",
        "\n",
        "import random\n",
        "\n",
        "def random_number():\n",
        "  for i in range(20):\n",
        "    number:int = random.randint(1,100)\n",
        "\n",
        "    print(number)\n",
        "if __name__ == \"__main__\":\n",
        "  random_number()\n"
      ],
      "metadata": {
        "colab": {
          "base_uri": "https://localhost:8080/"
        },
        "id": "nWM9SyMndjxK",
        "outputId": "9e560760-eaae-4fc2-82b3-dbc42ef54a24"
      },
      "execution_count": 19,
      "outputs": [
        {
          "output_type": "stream",
          "name": "stdout",
          "text": [
            "2\n",
            "28\n",
            "76\n",
            "88\n",
            "48\n",
            "64\n",
            "84\n",
            "5\n",
            "58\n",
            "62\n",
            "14\n",
            "36\n",
            "52\n",
            "85\n",
            "63\n",
            "57\n",
            "41\n",
            "99\n",
            "43\n",
            "34\n"
          ]
        }
      ]
    }
  ]
}