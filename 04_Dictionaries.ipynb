{
  "nbformat": 4,
  "nbformat_minor": 0,
  "metadata": {
    "colab": {
      "provenance": [],
      "authorship_tag": "ABX9TyNRQgFQl6mSCIMprQ0PEl5o",
      "include_colab_link": true
    },
    "kernelspec": {
      "name": "python3",
      "display_name": "Python 3"
    },
    "language_info": {
      "name": "python"
    }
  },
  "cells": [
    {
      "cell_type": "markdown",
      "metadata": {
        "id": "view-in-github",
        "colab_type": "text"
      },
      "source": [
        "<a href=\"https://colab.research.google.com/github/AZ-AZEEZULLAH/-04_Assignment/blob/main/04_Dictionaries.ipynb\" target=\"_parent\"><img src=\"https://colab.research.google.com/assets/colab-badge.svg\" alt=\"Open In Colab\"/></a>"
      ]
    },
    {
      "cell_type": "markdown",
      "source": [
        "# 🚀00 Count Nums🚀"
      ],
      "metadata": {
        "id": "lj6yWqzbpd-F"
      }
    },
    {
      "cell_type": "code",
      "source": [
        "#00_count_number\n",
        "def count_numbers():\n",
        "    count_dict = {}\n",
        "\n",
        "    while True:\n",
        "        num = input(\"Enter a number (or 'exit' to quit): \")\n",
        "\n",
        "        if num.lower() == 'exit':\n",
        "            break\n",
        "\n",
        "        if num.isdigit():\n",
        "            num = int(num)\n",
        "            count_dict[num] = count_dict.get(num, 0) + 1\n",
        "            print(count_dict)\n",
        "        else:\n",
        "            print(\"Invalid input. Please enter a number or 'exit'.\")\n",
        "\n",
        "    return count_dict\n",
        "\n",
        "\n",
        "def display_counts(count_dict):\n",
        "    print(\"\\nNumber Counts:\")\n",
        "\n",
        "    for key, value in count_dict.items():\n",
        "        print(f\"{key} appears {value} times\")\n",
        "\n",
        "if __name__ == \"__main__\":\n",
        "    counts = count_numbers()\n",
        "    display_counts(counts)\n"
      ],
      "metadata": {
        "id": "m0vfN5OcyYP_",
        "colab": {
          "base_uri": "https://localhost:8080/"
        },
        "outputId": "8485267c-da1a-4317-d4ca-7aa9daefe73d"
      },
      "execution_count": 30,
      "outputs": [
        {
          "output_type": "stream",
          "name": "stdout",
          "text": [
            "Enter a number (or 'exit' to quit): 12\n",
            "{12: 1}\n",
            "Enter a number (or 'exit' to quit): 4\n",
            "{12: 1, 4: 1}\n",
            "Enter a number (or 'exit' to quit): 8\n",
            "{12: 1, 4: 1, 8: 1}\n",
            "Enter a number (or 'exit' to quit): exit\n",
            "\n",
            "Number Counts:\n",
            "12 appears 1 times\n",
            "4 appears 1 times\n",
            "8 appears 1 times\n"
          ]
        }
      ]
    },
    {
      "cell_type": "markdown",
      "source": [
        "## 🔰01 Phone Book🔰"
      ],
      "metadata": {
        "id": "rFCax-t0y-Mp"
      }
    },
    {
      "cell_type": "code",
      "source": [
        "#01_phone_book\n",
        "\n",
        "def add_contact(phonebook):\n",
        "  name = input(\"Enter Contact Name:\")\n",
        "  number = input(\"Enter Contact Number:\")\n",
        "\n",
        "  if name in phonebook:\n",
        "    print(f\"{name} Alrady Exists in the phonebook.\")\n",
        "  else:\n",
        "    phonebook[name] = number\n",
        "    print(f\"{name} Added to the phonebook.\")\n",
        "\n",
        "def search_contact(phonebook):\n",
        "  name = input(\"Enter Contact Name:\")\n",
        "  number = input(\"Enter Contact Number:\")\n",
        "\n",
        "  if name in phonebook:\n",
        "    print(f\"{name}: {phonebook[name]}\")\n",
        "\n",
        "  else:\n",
        "    print(f\"{name} Not Found in the phonebook.\")\n",
        "\n",
        "\n",
        "\n",
        "def delete_contact(phonebook):\n",
        "  name = input(\"Enter Contact Name:\")\n",
        "  if name in phonebook:\n",
        "    del phonebook[name]\n",
        "    print(f\"{name} Deleted from the phonebook.\")\n",
        "  else:\n",
        "    print(f\"{name} Not Found in the phonebook\")\n",
        "\n",
        "\n",
        "def display_contact(phonebook):\n",
        "  if phonebook:\n",
        "    print(\"n Phonebook Contacts List:\")\n",
        "    for name,number in phonebook.items():\n",
        "      print(f\"{name}: {number}\")\n",
        "  else:\n",
        "    print(\"Phonebook is Empty.\")\n",
        "\n",
        "\n",
        "if __name__ == \"__main__\":\n",
        "  phonebook = {}\n",
        "\n",
        "\n",
        "\n",
        "  while True:\n",
        "    print(\"\\nPhonebook Menu:\")\n",
        "    print(\"1. Add Contact\")\n",
        "    print(\"2. Search Contact\")\n",
        "    print(\"3. Delete Contact\")\n",
        "    print(\"4. Display Contacts\")\n",
        "    print(\"5. Exit\")\n",
        "\n",
        "\n",
        "    choice = input(\"Enter your choice (1/2/3/4/5):\")\n",
        "    if choice == \"1\":\n",
        "      add_contact(phonebook)\n",
        "    elif choice == \"2\":\n",
        "      search_contact(phonebook)\n",
        "    elif choice == \"3\":\n",
        "      delete_contact(phonebook)\n",
        "    elif choice == \"4\":\n",
        "      display_contact(phonebook)\n",
        "    elif choice == \"5\":\n",
        "      print(\"Exiting Phonebook. Goodbye!\")\n",
        "      break\n",
        "\n",
        "    else:\n",
        "      print(\"Invalid Choice. Please select a valid option.\")\n"
      ],
      "metadata": {
        "colab": {
          "base_uri": "https://localhost:8080/"
        },
        "id": "qD8TloaTzgl_",
        "outputId": "2cc8c179-7d92-4f3e-9d32-b270a3eb8182"
      },
      "execution_count": null,
      "outputs": [
        {
          "output_type": "stream",
          "name": "stdout",
          "text": [
            "\n",
            "Phonebook Menu:\n",
            "1. Add Contact\n",
            "2. Search Contact\n",
            "3. Delete Contact\n",
            "4. Display Contacts\n",
            "5. Exit\n",
            "Enter your choice (1/2/3/4/5):2\n",
            "Enter Contact Name:Azeezullah\n",
            "Enter Contact Number:3\n",
            "Azeezullah Not Found in the phonebook.\n",
            "\n",
            "Phonebook Menu:\n",
            "1. Add Contact\n",
            "2. Search Contact\n",
            "3. Delete Contact\n",
            "4. Display Contacts\n",
            "5. Exit\n",
            "Enter your choice (1/2/3/4/5):2\n",
            "Enter Contact Name:Azeezullah\n",
            "Enter Contact Number:3\n",
            "Azeezullah Not Found in the phonebook.\n",
            "\n",
            "Phonebook Menu:\n",
            "1. Add Contact\n",
            "2. Search Contact\n",
            "3. Delete Contact\n",
            "4. Display Contacts\n",
            "5. Exit\n",
            "Enter your choice (1/2/3/4/5):3\n",
            "Enter Contact Name:Azeezullah\n",
            "Azeezullah Not Found in the phonebook\n",
            "\n",
            "Phonebook Menu:\n",
            "1. Add Contact\n",
            "2. Search Contact\n",
            "3. Delete Contact\n",
            "4. Display Contacts\n",
            "5. Exit\n",
            "Enter your choice (1/2/3/4/5):3\n",
            "Enter Contact Name:4\n",
            "4 Not Found in the phonebook\n",
            "\n",
            "Phonebook Menu:\n",
            "1. Add Contact\n",
            "2. Search Contact\n",
            "3. Delete Contact\n",
            "4. Display Contacts\n",
            "5. Exit\n",
            "Enter your choice (1/2/3/4/5):5\n",
            "Exiting Phonebook. Goodbye!\n"
          ]
        }
      ]
    },
    {
      "cell_type": "markdown",
      "source": [
        "# 🚀02 Pop Up Shop🚀"
      ],
      "metadata": {
        "id": "meXSLkO_4qXw"
      }
    },
    {
      "cell_type": "code",
      "source": [
        "# 02_pop_up_shop\n",
        "print(\"Welcome to the Pop Up Shop!\")\n",
        "\n",
        "def calculate_total_cost():\n",
        "    fruits_price = {\n",
        "        \"Apple\": 1.00,\n",
        "        \"Banana\": 0.50,\n",
        "        \"Orange\": 0.75,\n",
        "        \"Grapes\": 1.2\n",
        "    }\n",
        "\n",
        "    total_cost = 0\n",
        "    for fruit, price in fruits_price.items():\n",
        "        while True:\n",
        "            try:\n",
        "                quantity = int(input(f\"How many {fruit} do you want?: \"))\n",
        "                if quantity < 0:\n",
        "                    print(\"Invalid Input. Please Enter a non-negative number.\")\n",
        "                    continue\n",
        "\n",
        "                total_cost += price * quantity\n",
        "                break\n",
        "            except ValueError:\n",
        "                print(\"Invalid input. Please enter a valid number.\")\n",
        "    print(f\"\\n Your Total cost is: ${total_cost:.2f}\")\n",
        "\n",
        "if __name__ == \"__main__\":\n",
        "\n",
        "    calculate_total_cost()\n"
      ],
      "metadata": {
        "colab": {
          "base_uri": "https://localhost:8080/"
        },
        "id": "hIPqCQi67Jxp",
        "outputId": "5bb07d77-5206-4c87-a6b7-d7fedc2e4102"
      },
      "execution_count": null,
      "outputs": [
        {
          "output_type": "stream",
          "name": "stdout",
          "text": [
            "Welcome to the Pop Up Shop!\n",
            "How many Apple do you want?: 10\n",
            "How many Banana do you want?: 14\n",
            "How many Orange do you want?: 6\n",
            "How many Grapes do you want?: 7\n",
            "\n",
            " Your Total cost is: $29.90\n"
          ]
        }
      ]
    },
    {
      "cell_type": "markdown",
      "source": [
        "# 🔰03 Powerful Password🔰"
      ],
      "metadata": {
        "id": "G7uGSUOh87hw"
      }
    },
    {
      "cell_type": "code",
      "source": [
        "#03_powerful_password\n",
        "import hashlib\n",
        "\n",
        "def hash_password(password):\n",
        "    return hashlib.sha256(password.encode()).hexdigest()\n",
        "\n",
        "stored_logins = {\n",
        "    \"user@example.com\": hash_password(\"password123\"),\n",
        "    \"admin@example.com\": hash_password(\"adminpass\")\n",
        "}\n",
        "\n",
        "def login(email, password):\n",
        "    if email in stored_logins:\n",
        "        return stored_logins[email] == hash_password(password)\n",
        "    return False\n",
        "\n",
        "if __name__ == \"__main__\":\n",
        "    email = input(\"Enter your email: \")\n",
        "    password = input(\"Enter your password: \")\n",
        "\n",
        "    if login(email, password):\n",
        "        print(\"Login Successful!\")\n",
        "    else:\n",
        "        print(\"Invalid Credentials. Login Failed.\")\n"
      ],
      "metadata": {
        "colab": {
          "base_uri": "https://localhost:8080/"
        },
        "id": "sDDKiCq-TDek",
        "outputId": "62223d3e-3bc8-42aa-87ca-d057dbce25ff"
      },
      "execution_count": 29,
      "outputs": [
        {
          "output_type": "stream",
          "name": "stdout",
          "text": [
            "Enter your email: user@example.com\n",
            "Enter your password: password123\n",
            "Login Successful!\n"
          ]
        }
      ]
    }
  ]
}