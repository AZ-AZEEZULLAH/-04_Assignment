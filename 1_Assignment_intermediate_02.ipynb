{
  "cells": [
    {
      "cell_type": "markdown",
      "metadata": {
        "id": "view-in-github",
        "colab_type": "text"
      },
      "source": [
        "<a href=\"https://colab.research.google.com/github/AZ-AZEEZULLAH/-04_Assignment/blob/main/1_Assignment_intermediate_02.ipynb\" target=\"_parent\"><img src=\"https://colab.research.google.com/assets/colab-badge.svg\" alt=\"Open In Colab\"/></a>"
      ]
    },
    {
      "cell_type": "markdown",
      "metadata": {
        "id": "x1CcuhE8O4wZ"
      },
      "source": [
        "🧡Control Flow  For Console🧡"
      ]
    },
    {
      "cell_type": "code",
      "execution_count": null,
      "metadata": {
        "colab": {
          "background_save": true,
          "base_uri": "https://localhost:8080/"
        },
        "id": "RH8puKOVxYdP",
        "outputId": "a4cf54f8-14fb-4709-9af3-a61f837112ac"
      },
      "outputs": [
        {
          "name": "stdout",
          "output_type": "stream",
          "text": [
            "💓 Welcome to The High Low Game💓\n",
            "🌐You will play 5 rounds .Try to guess correctly\n",
            "\n",
            "\n",
            "🎲Your number is 72\n"
          ]
        }
      ],
      "source": [
        "import random\n",
        "NUM_ROUNDS = 5  # Defines the number of rounds to play\n",
        "\n",
        "def play_rounds():\n",
        "    \"\"\"Plays one round of the High Low Game\"\"\"\n",
        "    player_number = random.randint(1, 100)  # Generates random number for player (1 to 100)\n",
        "    computer_number = random.randint(1, 100)  # Generates random number for computer (1 to 100)\n",
        "\n",
        "    print(f\"\\n🎲Your number is {player_number}\")  # Displays player's number\n",
        "\n",
        "    while True:  # Loop to ensure valid input\n",
        "        guess = input(\"📣The Computer number will be Higher or Lower \").strip().lower()  # Gets player's guess\n",
        "        if guess in [\"higher\", \"lower\"]:  # Checks if input is valid\n",
        "            break\n",
        "        print(\"⚠ Invalid input. Please enter 'Higher' or 'Lower'.\")  # Error message for invalid input\n",
        "\n",
        "    # Logic to determine if guess is correct\n",
        "    if (guess == \"higher\" and computer_number > player_number) or (guess == \"lower\" and computer_number < player_number):\n",
        "        print(f\"✅Correct! The computer's number was {computer_number}\")  # Correct guess\n",
        "        return 1  # Returns 1 for a win\n",
        "    elif player_number == computer_number:  # Handles tie case\n",
        "        print(f\"Tied! Both numbers were {player_number}\")\n",
        "        return 0  # Returns 0 for a tie\n",
        "    else:  # Incorrect guess\n",
        "        print(f\"❌Incorrect. The computer's number was {computer_number}\")\n",
        "        return 0  # Returns 0 for a loss\n",
        "\n",
        "def main():\n",
        "    print(\"💓 Welcome to The High Low Game💓\")  # Main game welcome message\n",
        "    print(f\"🌐You will play {NUM_ROUNDS} rounds .Try to guess correctly\\n\")\n",
        "\n",
        "    score = 0  # Initializes player's score\n",
        "    for _ in range(NUM_ROUNDS):  # Loops through the specified number of rounds\n",
        "        score += play_rounds()  # Plays a round and adds result (0 or 1) to score\n",
        "\n",
        "    print(\"\\🥈 Game is Over\")  # Game over message\n",
        "    print(f\"🧿 Your final score :{score} / {NUM_ROUNDS}\")  # Displays final score\n",
        "\n",
        "    # Provides feedback based on score\n",
        "    if score == NUM_ROUNDS:  # Perfect score\n",
        "        print(\"🌞 Wow! You played perfectly!\")\n",
        "    elif score >= NUM_ROUNDS // 2:  # At least half correct\n",
        "        print(\"💔Good Job ,You played well! 💔\")\n",
        "    else:  # Less than half correct\n",
        "        print(\"🌍 Best of luck Try again🌍\")\n",
        "\n",
        "if __name__ == \"__main__\":\n",
        "    main()  # Runs the game when script is executed\n"
      ]
    },
    {
      "cell_type": "markdown",
      "source": [
        "🌺Intro To Python🌺"
      ],
      "metadata": {
        "id": "kkxxL_uI0YpR"
      }
    },
    {
      "cell_type": "code",
      "source": [
        "# 🌺Intro To Python🌺\n",
        "\n",
        "# 🌍 Dictionary holding gravity values relative to Earth's gravity\n",
        "PLANET_GRAVITY = {\n",
        "    \"MERCURY\": 0.376,\n",
        "    \"VENUS\": 0.889,\n",
        "    \"MARS\": 0.378,\n",
        "    \"JUPITER\": 2.36,\n",
        "    \"SATURN\": 1.081,\n",
        "    \"URANUS\": 0.869,\n",
        "    \"NEPTUNE\": 1.12\n",
        "}\n",
        "\n",
        "# 📐 Function to calculate weight on a selected planet\n",
        "def calculate_weight(weight, planet):\n",
        "    \"\"\"🔍 Calculates weight on a given planet\"\"\"\n",
        "    gravity = PLANET_GRAVITY.get(planet)  # ✅ Get the gravity for the selected planet\n",
        "    if gravity:\n",
        "        return round(weight * gravity, 2)  # 🔢 Round the result to 2 decimal places\n",
        "    else:\n",
        "        return \"❌ Invalid planet\"  # ❗ If the planet is not found\n",
        "\n",
        "# 🎮 Main function that runs the program\n",
        "def weight_calc_main():\n",
        "    print(\"🚀 Planetary Weight Calculator\")\n",
        "\n",
        "    # 🧍‍♂️ Ask the user for their weight\n",
        "    while True:\n",
        "        try:\n",
        "            weight = float(input(\"Enter your weight (KG): \"))  # 🎯 Convert input to float\n",
        "            if weight > 0:\n",
        "                break  # ✅ Exit loop if input is valid\n",
        "            print(\"🔇 Invalid input! A positive number is required.\")\n",
        "        except ValueError:\n",
        "            print(\"🔇 Invalid input! A number is required.\")\n",
        "\n",
        "    # 🌌 Show the user the available planets\n",
        "    print(\"\\n💓 Available planets: \", \", \".join(PLANET_GRAVITY.keys()))\n",
        "\n",
        "    # 🌠 Ask for the planet name\n",
        "    while True:\n",
        "        planet = input(\"Enter a planet name: \").strip().upper()  # 🔤 Normalize input to uppercase\n",
        "        if planet in PLANET_GRAVITY:\n",
        "            break  # ✅ If valid, break out of the loop\n",
        "        print(\"❌ Invalid planet! Please choose from the list.\")\n",
        "\n",
        "    # ⚖️ Calculate weight on the selected planet\n",
        "    weight_on_planet = calculate_weight(weight, planet)\n",
        "    print(f\"🌏 Your weight on {planet} is {weight_on_planet} kg\")  # 📢 Show result\n",
        "\n",
        "# 🚦 Start the program only if this file is run directly\n",
        "if __name__ == \"__main__\":\n",
        "    weight_calc_main()  # 🎬 Start the planetary weight calculator\n"
      ],
      "metadata": {
        "colab": {
          "base_uri": "https://localhost:8080/"
        },
        "id": "Y1-YVtOGyR5y",
        "outputId": "d4868979-3bf4-4b35-ac35-1d5b920c6a18"
      },
      "execution_count": 5,
      "outputs": [
        {
          "output_type": "stream",
          "name": "stdout",
          "text": [
            "🚀 Planetary Weight Calculator\n",
            "Enter your weight (KG): 0.23\n",
            "\n",
            "💓 Available planets:  MERCURY, VENUS, MARS, JUPITER, SATURN, URANUS, NEPTUNE\n",
            "Enter a planet name: MERCURY\n",
            "🌏 Your weight on MERCURY is 0.09 kg\n"
          ]
        }
      ]
    },
    {
      "cell_type": "markdown",
      "source": [
        "💖List And Dictionary💖"
      ],
      "metadata": {
        "id": "5-tLsznrzlSv"
      }
    },
    {
      "cell_type": "code",
      "source": [
        "def main():\n",
        "    # Initialize list of fruits with emojis\n",
        "    fruits = [\"Apple 🍎\", \"Banana 🍌\", \"Orange 🍊\", \"Grapes 🍇\", \"PineApple 🍍\"]\n",
        "    print(f\"\\n🧺 Current List Of Fruits:\\n{fruits}\\n\")\n",
        "\n",
        "    while True:\n",
        "        # Display menu options\n",
        "        print(\"\\n💌 Choose an option :\\n1️⃣ Access Item\\n2️⃣ Change Item\\n3️⃣ Show Part of List\\n4️⃣ Exit\")\n",
        "        choice = input(\"Enter Choice (1-4): \")\n",
        "\n",
        "        if choice == \"1\":\n",
        "            # Access fruit at specific index\n",
        "            index = int(input(\"Enter Index (0-4): \"))  # Added colon\n",
        "            if 0 <= index < len(fruits):\n",
        "                print(f\"Selected Fruit: {fruits[index]}\")\n",
        "            else:\n",
        "                print(\"Invalid Index!\")\n",
        "\n",
        "        elif choice == \"2\":\n",
        "            # Modify fruit at specific index\n",
        "            index = int(input(\"Enter Index (0-4): \"))  # Added colon\n",
        "            if 0 <= index < len(fruits):  # Fixed spacing around <\n",
        "                new_value = input(\"Enter New Item: \")  # Added colon\n",
        "                fruits[index] = new_value\n",
        "                print(f\"✅ Updated List: {fruits}\")\n",
        "            else:\n",
        "                print(\"Invalid Index!\")\n",
        "\n",
        "        elif choice == \"3\":\n",
        "            # Show slice of the list\n",
        "            start = int(input(\"Start Index (0-4): \"))  # Fixed colon syntax\n",
        "            end = int(input(\"End Index (1-5): \"))     # Added colon\n",
        "            if 0 <= start < end <= len(fruits):       # Fixed spacing\n",
        "                print(f\"List Slice: {fruits[start:end]}\")\n",
        "            else:\n",
        "                print(\"Invalid Range!\")\n",
        "\n",
        "        elif choice == \"4\":\n",
        "            # Exit the program\n",
        "            print(\"Good Bye!\")\n",
        "            break\n",
        "\n",
        "        else:\n",
        "            # Handle invalid menu choice\n",
        "            print(\"Invalid Choice (1-4)!\")\n",
        "\n",
        "# Corrected the main guard syntax\n",
        "if __name__ == \"__main__\":  # Fixed underscore and quotes\n",
        "    main()"
      ],
      "metadata": {
        "colab": {
          "base_uri": "https://localhost:8080/"
        },
        "id": "39JnreVdBCj1",
        "outputId": "0c0eccc5-a925-4d66-fc37-d8fb0c6360e9"
      },
      "execution_count": 7,
      "outputs": [
        {
          "output_type": "stream",
          "name": "stdout",
          "text": [
            "\n",
            "🧺 Current List Of Fruits:\n",
            "['Apple 🍎', 'Banana 🍌', 'Orange 🍊', 'Grapes 🍇', 'PineApple 🍍']\n",
            "\n",
            "\n",
            "💌 Choose an option :\n",
            "1️⃣ Access Item\n",
            "2️⃣ Change Item\n",
            "3️⃣ Show Part of List\n",
            "4️⃣ Exit\n",
            "Enter Choice (1-4): 1\n",
            "Enter Index (0-4): 0\n",
            "Selected Fruit: Apple 🍎\n",
            "\n",
            "💌 Choose an option :\n",
            "1️⃣ Access Item\n",
            "2️⃣ Change Item\n",
            "3️⃣ Show Part of List\n",
            "4️⃣ Exit\n",
            "Enter Choice (1-4): 2\n",
            "Enter Index (0-4): 3\n",
            "Enter New Item: 2\n",
            "✅ Updated List: ['Apple 🍎', 'Banana 🍌', 'Orange 🍊', '2', 'PineApple 🍍']\n",
            "\n",
            "💌 Choose an option :\n",
            "1️⃣ Access Item\n",
            "2️⃣ Change Item\n",
            "3️⃣ Show Part of List\n",
            "4️⃣ Exit\n",
            "Enter Choice (1-4): 3\n",
            "Start Index (0-4): 2\n",
            "End Index (1-5): 4\n",
            "List Slice: ['Orange 🍊', '2']\n",
            "\n",
            "💌 Choose an option :\n",
            "1️⃣ Access Item\n",
            "2️⃣ Change Item\n",
            "3️⃣ Show Part of List\n",
            "4️⃣ Exit\n",
            "Enter Choice (1-4): 4\n",
            "Good Bye!\n"
          ]
        }
      ]
    }
  ],
  "metadata": {
    "colab": {
      "provenance": [],
      "authorship_tag": "ABX9TyM4aXDR+jp+A+JkZgtwUCYb",
      "include_colab_link": true
    },
    "kernelspec": {
      "display_name": "Python 3",
      "name": "python3"
    },
    "language_info": {
      "name": "python"
    }
  },
  "nbformat": 4,
  "nbformat_minor": 0
}