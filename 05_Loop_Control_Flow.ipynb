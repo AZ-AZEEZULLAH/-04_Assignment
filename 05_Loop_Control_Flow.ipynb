{
  "nbformat": 4,
  "nbformat_minor": 0,
  "metadata": {
    "colab": {
      "provenance": [],
      "authorship_tag": "ABX9TyNAkO5fV8h/aPe0K1uc3lV0",
      "include_colab_link": true
    },
    "kernelspec": {
      "name": "python3",
      "display_name": "Python 3"
    },
    "language_info": {
      "name": "python"
    }
  },
  "cells": [
    {
      "cell_type": "markdown",
      "metadata": {
        "id": "view-in-github",
        "colab_type": "text"
      },
      "source": [
        "<a href=\"https://colab.research.google.com/github/AZ-AZEEZULLAH/-04_Assignment/blob/main/05_Loop_Control_Flow.ipynb\" target=\"_parent\"><img src=\"https://colab.research.google.com/assets/colab-badge.svg\" alt=\"Open In Colab\"/></a>"
      ]
    },
    {
      "cell_type": "markdown",
      "source": [
        "# 🚗00 Guess My Number🚗"
      ],
      "metadata": {
        "id": "ryo6ypNo_D38"
      }
    },
    {
      "cell_type": "code",
      "source": [
        "# 00_guess_my_number\n",
        "\n",
        "def guess_my_number():\n",
        "  secret_number = random.randint(1, 20)\n",
        "  print(\"I'm thinking of a number between 1 and 20....\")\n",
        "\n",
        "  guess  = int(input(\"Take a guess: \"))\n",
        "   # loop\n",
        "  while guess != secret_number:\n",
        "    # conditions\n",
        "    if guess < secret_number:\n",
        "      print(\"You guess is too low\")\n",
        "\n",
        "    else:\n",
        "      print(\"You guess is too high\")\n",
        "\n",
        "    guess = int(input(\"Take a guess: \"))\n",
        "\n",
        "  print(\"You guessed it! The number was\", secret_number)\n",
        "\n",
        "\n",
        "if __name__ == \"__main__\":\n",
        "  import random\n",
        "  guess_my_number()"
      ],
      "metadata": {
        "colab": {
          "base_uri": "https://localhost:8080/"
        },
        "id": "24ODT5Zp_iwd",
        "outputId": "c499a0ec-95b7-4923-c691-4bee8ff08114"
      },
      "execution_count": 4,
      "outputs": [
        {
          "output_type": "stream",
          "name": "stdout",
          "text": [
            "I'm thinking of a number between 1 and 20....\n",
            "Take a guess: 20\n",
            "You guess is too high\n",
            "Take a guess: 19\n",
            "You guess is too high\n",
            "Take a guess: 18\n",
            "You guess is too high\n",
            "Take a guess: 17\n",
            "You guess is too high\n",
            "Take a guess: 16\n",
            "You guess is too high\n",
            "Take a guess: 15\n",
            "You guess is too high\n",
            "Take a guess: 14\n",
            "You guess is too high\n",
            "Take a guess: 13\n",
            "You guess is too high\n",
            "Take a guess: 12\n",
            "You guess is too high\n",
            "Take a guess: 11\n",
            "You guess is too high\n",
            "Take a guess: 10\n",
            "You guessed it! The number was 10\n"
          ]
        }
      ]
    },
    {
      "cell_type": "markdown",
      "source": [
        "# 🚍01  Fibonacci 🚍"
      ],
      "metadata": {
        "id": "iiKuaArFBsw-"
      }
    },
    {
      "cell_type": "code",
      "source": [
        "# 01_fibonacci\n",
        "\n",
        "MAX_VALUE : int = 1000\n",
        "\n",
        "\n",
        "def fibonacci():\n",
        "  a,b = 0,1\n",
        "  print(a,b, end = \" \")\n",
        "\n",
        "  while True:\n",
        "    c = a+b\n",
        "    if c > MAX_VALUE:\n",
        "      break\n",
        "    print(c, end = \" \")\n",
        "    a,b = b,c\n",
        "\n",
        "if __name__ == \"__main__\":\n",
        "  fibonacci()"
      ],
      "metadata": {
        "colab": {
          "base_uri": "https://localhost:8080/"
        },
        "id": "7FHI1vKjCG6G",
        "outputId": "74331553-bc97-40b8-8da2-51db8c66c7fc"
      },
      "execution_count": 6,
      "outputs": [
        {
          "output_type": "stream",
          "name": "stdout",
          "text": [
            "0 1 1 2 3 5 8 13 21 34 55 89 144 233 377 610 987 "
          ]
        }
      ]
    },
    {
      "cell_type": "markdown",
      "source": [
        "# 🚜02 Print Events🚜"
      ],
      "metadata": {
        "id": "A-30k3I4DY_l"
      }
    },
    {
      "cell_type": "code",
      "source": [
        "# 02_print_events\n",
        "\n",
        "def events():\n",
        "  for i in range(20):\n",
        "    #if i % 2 == 0:  # count +4 every one just 4 then 8 the 12 the 16....\n",
        "\n",
        "\n",
        "      print(i *2)\n",
        "\n",
        "if __name__ == \"__main__\":\n",
        "  events()"
      ],
      "metadata": {
        "colab": {
          "base_uri": "https://localhost:8080/"
        },
        "id": "nuY3wcFzDlBc",
        "outputId": "57c9563a-b82c-4ec2-c740-05abb0f2ebb6"
      },
      "execution_count": 14,
      "outputs": [
        {
          "output_type": "stream",
          "name": "stdout",
          "text": [
            "0\n",
            "2\n",
            "4\n",
            "6\n",
            "8\n",
            "10\n",
            "12\n",
            "14\n",
            "16\n",
            "18\n",
            "20\n",
            "22\n",
            "24\n",
            "26\n",
            "28\n",
            "30\n",
            "32\n",
            "34\n",
            "36\n",
            "38\n"
          ]
        }
      ]
    },
    {
      "cell_type": "markdown",
      "source": [
        "# 🚖03 Wholesome Machine🚖"
      ],
      "metadata": {
        "id": "xRa-YsqZEooK"
      }
    },
    {
      "cell_type": "code",
      "source": [
        "# 03_wholesome_machine\n",
        "\n",
        "\n",
        "AFFERMATION : str = \"Iam capable of doing anything . I put my mind too\"\n",
        "\n",
        "\n",
        "def wholesome_machine():\n",
        "  print(\"Start Wholesome Machine\")\n",
        "\n",
        "  while True:\n",
        "    user_input = input(\"Please try the following affermative:\" + AFFERMATION)\n",
        "    if user_input == AFFERMATION:\n",
        "      print(\"That\\'s right!\")\n",
        "      break\n",
        "\n",
        "    else:\n",
        "      print(\"Try again\")\n",
        "\n",
        "\n",
        "if __name__ == \"__main__\":\n",
        "  wholesome_machine()"
      ],
      "metadata": {
        "colab": {
          "base_uri": "https://localhost:8080/"
        },
        "id": "_i-pwJGOE0Yb",
        "outputId": "0e967c93-729c-4cb2-ed6e-5dcfd4e7c8ce"
      },
      "execution_count": 16,
      "outputs": [
        {
          "output_type": "stream",
          "name": "stdout",
          "text": [
            "Start Wholesome Machine\n",
            "Please try the following affermative:Iam capable of doing anything . I put my mind tooSir_Zia_Khan\n",
            "Try again\n",
            "End Wholesome Machine\n",
            "Please try the following affermative:Iam capable of doing anything . I put my mind tooIam capable of doing anything . I put my mind too\n",
            "That's right!\n"
          ]
        }
      ]
    },
    {
      "cell_type": "markdown",
      "source": [
        "# 🚎04 Liftoff 🚎"
      ],
      "metadata": {
        "id": "643QLWkQHioU"
      }
    },
    {
      "cell_type": "code",
      "source": [
        "# 04_liftoff\n",
        "\n",
        "def liftoff():\n",
        "  for i in range(10,0,-1):\n",
        "    #print(i) # result by multi line\n",
        "    print(i, end = \" \") # result by single line\n",
        "  print(\"Liftoff!\")\n",
        "\n",
        "if __name__ == \"__main__\":\n",
        "  liftoff()\n"
      ],
      "metadata": {
        "colab": {
          "base_uri": "https://localhost:8080/"
        },
        "id": "FNwMtnAxIS1f",
        "outputId": "ef2aba51-281a-415e-9973-84f69dd47756"
      },
      "execution_count": 26,
      "outputs": [
        {
          "output_type": "stream",
          "name": "stdout",
          "text": [
            "10 9 8 7 6 5 4 3 2 1 Liftoff!\n"
          ]
        }
      ]
    },
    {
      "cell_type": "markdown",
      "source": [
        "# 🚛05 Double It🚛"
      ],
      "metadata": {
        "id": "vxRhlOgoLAc8"
      }
    },
    {
      "cell_type": "code",
      "source": [
        "# 05_double_it\n",
        "\n",
        "def double_it():\n",
        "\n",
        "  user_value = int(input(\"Please enter a number: \"))\n",
        "  while user_value < 100 :\n",
        "    user_value = user_value * 2\n",
        "    print(user_value)\n",
        "\n",
        "if __name__ == \"__main__\":\n",
        "  double_it()\n",
        "\n",
        "print(\"Thanks🛹\")"
      ],
      "metadata": {
        "colab": {
          "base_uri": "https://localhost:8080/"
        },
        "id": "bhAnRyrELRf1",
        "outputId": "08ba02c8-921a-4630-d600-c99c13dd960f"
      },
      "execution_count": 28,
      "outputs": [
        {
          "output_type": "stream",
          "name": "stdout",
          "text": [
            "Please enter a number: 4\n",
            "8\n",
            "16\n",
            "32\n",
            "64\n",
            "128\n",
            "Thanks🛹\n"
          ]
        }
      ]
    }
  ]
}