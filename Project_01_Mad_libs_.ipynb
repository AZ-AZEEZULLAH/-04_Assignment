{
  "nbformat": 4,
  "nbformat_minor": 0,
  "metadata": {
    "colab": {
      "provenance": [],
      "authorship_tag": "ABX9TyMk9ZCDJq2JauFsfsnjTkLi",
      "include_colab_link": true
    },
    "kernelspec": {
      "name": "python3",
      "display_name": "Python 3"
    },
    "language_info": {
      "name": "python"
    }
  },
  "cells": [
    {
      "cell_type": "markdown",
      "metadata": {
        "id": "view-in-github",
        "colab_type": "text"
      },
      "source": [
        "<a href=\"https://colab.research.google.com/github/AZ-AZEEZULLAH/-04_Assignment/blob/main/Project_01_Mad_libs_.ipynb\" target=\"_parent\"><img src=\"https://colab.research.google.com/assets/colab-badge.svg\" alt=\"Open In Colab\"/></a>"
      ]
    },
    {
      "cell_type": "markdown",
      "source": [
        "# Mid Libs"
      ],
      "metadata": {
        "id": "gBcTSwfdxjid"
      }
    },
    {
      "cell_type": "code",
      "source": [
        "# Animal-Themed Mad Libs Story\n",
        "\n",
        "print(\"🐾 Welcome to the Wild Animal Adventure! 🐾\")\n",
        "\n",
        "# Get user inputs\n",
        "animal1 = input(\"Enter a first animal: \")\n",
        "animal2 = input(\"Enter a second animal: \")\n",
        "adjective = input(\"Enter an adjective: \")\n",
        "place = input(\"Enter a jungle or forest name: \")\n",
        "sound = input(\"Enter a sound (like 'roar', 'chirp', 'growl'): \")\n",
        "activity = input(\"Enter an activity (like 'jumping', 'hunting'): \")\n",
        "food = input(\"Enter a type of food: \")\n",
        "\n",
        "# Story template\n",
        "madlib = f\"\"\"\n",
        "Deep inside the {place}, a {adjective} {animal1} was {activity} under the trees.\n",
        "Suddenly, a loud '{sound}!' echoed through the jungle.\n",
        "It was a {animal2}, and it looked very hungry.\n",
        "The {animal1} quickly threw some {food} to distract the {animal2}.\n",
        "Surprisingly, the two animals became friends and shared the {food}.\n",
        "From that day on, the {place} was filled with peace and laughter 🐾.\n",
        "\"\"\"\n",
        "\n",
        "# Print the story\n",
        "print(\"\\n🌿 Here's your Animal Adventure Story:\")\n",
        "print(madlib)\n"
      ],
      "metadata": {
        "colab": {
          "base_uri": "https://localhost:8080/"
        },
        "id": "ciR08wxeBCL1",
        "outputId": "e0ce89e4-5479-4bf1-a591-438cb3ffca98"
      },
      "execution_count": null,
      "outputs": [
        {
          "output_type": "stream",
          "name": "stdout",
          "text": [
            "🐾 Welcome to the Wild Animal Adventure! 🐾\n",
            "Enter a first animal: monkey\n",
            "Enter a second animal: lion\n",
            "Enter an adjective: watching\n",
            "Enter a jungle or forest name: jungle\n",
            "Enter a sound (like 'roar', 'chirp', 'growl'): roar\n",
            "Enter an activity (like 'jumping', 'hunting'): jumping\n",
            "Enter a type of food: banana\n",
            "\n",
            "🌿 Here's your Animal Adventure Story:\n",
            "\n",
            "Deep inside the jungle, a watching monkey was jumping under the trees.\n",
            "Suddenly, a loud 'roar!' echoed through the jungle.\n",
            "It was a lion, and it looked very hungry.\n",
            "The monkey quickly threw some banana to distract the lion.\n",
            "Surprisingly, the two animals became friends and shared the banana.\n",
            "From that day on, the jungle was filled with peace and laughter 🐾.\n",
            "\n"
          ]
        }
      ]
    }
  ]
}