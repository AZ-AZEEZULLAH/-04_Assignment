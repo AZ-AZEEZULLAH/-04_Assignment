{
  "nbformat": 4,
  "nbformat_minor": 0,
  "metadata": {
    "colab": {
      "provenance": [],
      "authorship_tag": "ABX9TyMLWOIR68BxIFlCScp//ER3",
      "include_colab_link": true
    },
    "kernelspec": {
      "name": "python3",
      "display_name": "Python 3"
    },
    "language_info": {
      "name": "python"
    }
  },
  "cells": [
    {
      "cell_type": "markdown",
      "metadata": {
        "id": "view-in-github",
        "colab_type": "text"
      },
      "source": [
        "<a href=\"https://colab.research.google.com/github/AZ-AZEEZULLAH/-04_Assignment/blob/main/02_Lists.ipynb\" target=\"_parent\"><img src=\"https://colab.research.google.com/assets/colab-badge.svg\" alt=\"Open In Colab\"/></a>"
      ]
    },
    {
      "cell_type": "markdown",
      "source": [
        "# 🔰 01 Add Many Numbers🔰"
      ],
      "metadata": {
        "id": "PHZ42R1s-tn6"
      }
    },
    {
      "cell_type": "code",
      "source": [
        "# 01_add_many_numbers\n",
        "def add_numbers(numbers)->int:\n",
        "  num:int =0\n",
        "  for number in numbers:\n",
        "    num += number\n",
        "  return num\n",
        "\n",
        "def add_numbers_2():\n",
        "  numbers = [1, 2, 3, 4, 5, 6]\n",
        "  sum:int = add_numbers(numbers)\n",
        "  return sum\n",
        "\n",
        "if __name__ == \"__main__\":\n",
        "  print(add_numbers_2())\n"
      ],
      "metadata": {
        "colab": {
          "base_uri": "https://localhost:8080/"
        },
        "id": "QdLbrIDLBL50",
        "outputId": "33b50af4-2327-4a07-b75e-8132b54b6872"
      },
      "execution_count": null,
      "outputs": [
        {
          "output_type": "stream",
          "name": "stdout",
          "text": [
            "21\n"
          ]
        }
      ]
    },
    {
      "cell_type": "markdown",
      "source": [
        "# 🚀02 Double List🚀"
      ],
      "metadata": {
        "id": "oGZvxnLMBx0W"
      }
    },
    {
      "cell_type": "code",
      "source": [
        "# 02_double_list\n",
        "def double_list():\n",
        "  numbers:list[int]=[1, 2, 3, 4, 5, 6, 7, ]\n",
        "  for i in range(len(numbers)):\n",
        "    index = numbers[i]\n",
        "    numbers[i] = index * 2\n",
        "  print(numbers)\n",
        "\n",
        "\n",
        "\n",
        "if __name__ == \"__main__\":\n",
        "  double_list()\n",
        "\n",
        "\n"
      ],
      "metadata": {
        "colab": {
          "base_uri": "https://localhost:8080/"
        },
        "id": "lbZKO6lkCFo4",
        "outputId": "d8bdb426-9ade-4128-ac7c-b5046cadd2c2"
      },
      "execution_count": null,
      "outputs": [
        {
          "output_type": "stream",
          "name": "stdout",
          "text": [
            "[2, 4, 6, 8, 10, 12, 14]\n"
          ]
        }
      ]
    },
    {
      "cell_type": "markdown",
      "source": [
        "# 🔰04 Following With Data Structure🔰"
      ],
      "metadata": {
        "id": "Bu6cb2vd9e2y"
      }
    },
    {
      "cell_type": "code",
      "source": [
        "# 04_following_with_data_structure\n",
        "\n",
        "def add_three_copies(my_list, data):\n",
        "  for i in range(3):\n",
        "    my_list.append(data)\n",
        "\n",
        "\n",
        "def main():\n",
        "  message = input(\"Enter a message to copy:\")\n",
        "  my_list = []\n",
        "  print(\"List Before:\", my_list)\n",
        "  add_three_copies(my_list,message)\n",
        "  print(\"List After:\",my_list )\n",
        "if __name__ == \"__main__\":\n",
        "  main()\n"
      ],
      "metadata": {
        "colab": {
          "base_uri": "https://localhost:8080/"
        },
        "id": "3C0OxlzQAKnJ",
        "outputId": "a924bbc2-3dcd-4b14-b0c0-23355574bfb9"
      },
      "execution_count": 5,
      "outputs": [
        {
          "output_type": "stream",
          "name": "stdout",
          "text": [
            "Enter a message to copy:Sir_Zia_Khan\n",
            "List Before: []\n",
            "List After: ['Sir_Zia_Khan', 'Sir_Zia_Khan', 'Sir_Zia_Khan']\n"
          ]
        }
      ]
    },
    {
      "cell_type": "markdown",
      "source": [
        "# 🚀05 Get First Element🚀"
      ],
      "metadata": {
        "id": "JZ9gaHknAdhx"
      }
    },
    {
      "cell_type": "code",
      "source": [
        "# 05_get_first_element\n",
        "def get_first_element(lst):\n",
        "  if lst:  # Check if the list is not empty\n",
        "    print(lst[0])\n",
        "  else:\n",
        "    print(\"List is empty\")\n",
        "\n",
        "def get_list():\n",
        "  lst = []\n",
        "  element:str=input(\"Enter an element to add to the list:\")\n",
        "  while element !=\"\":\n",
        "    lst.append(element)\n",
        "    element = input(\"Enter an element to add to the list (or press Enter to finish):\")\n",
        "  return lst\n",
        "\n",
        "def main():\n",
        "  lst =get_list()\n",
        "  get_first_element(lst)\n",
        "\n",
        "if __name__ == \"__main__\":\n",
        "  main()\n"
      ],
      "metadata": {
        "colab": {
          "base_uri": "https://localhost:8080/"
        },
        "id": "hZM_weAQDQSD",
        "outputId": "58801e84-b896-4540-da4f-43b93a2b8ba4"
      },
      "execution_count": 7,
      "outputs": [
        {
          "output_type": "stream",
          "name": "stdout",
          "text": [
            "Enter an element to add to the list:5\n",
            "Enter an element to add to the list (or press Enter to finish):6\n",
            "Enter an element to add to the list (or press Enter to finish):\n",
            "5\n"
          ]
        }
      ]
    },
    {
      "cell_type": "markdown",
      "source": [
        "# 06🔰 Get last Element🔰"
      ],
      "metadata": {
        "id": "Jizb9DxtD3ia"
      }
    },
    {
      "cell_type": "code",
      "source": [
        "# 06_get_last-element\n",
        "def get_last_element(lst):\n",
        "  print(lst[-1])\n",
        "\n",
        "\n",
        "def main():\n",
        "  lst = [1, 2, 3, 4, 5, 6, 7]\n",
        "  get_last_element(lst)\n",
        "\n",
        "if __name__==\"__main__\":\n",
        "  main()\n"
      ],
      "metadata": {
        "colab": {
          "base_uri": "https://localhost:8080/"
        },
        "id": "pTtqK0l0EtLr",
        "outputId": "798873a5-eda8-4003-af38-c4c59183e1b8"
      },
      "execution_count": 9,
      "outputs": [
        {
          "output_type": "stream",
          "name": "stdout",
          "text": [
            "7\n"
          ]
        }
      ]
    },
    {
      "cell_type": "markdown",
      "source": [
        "#🚀 07Get List🚀"
      ],
      "metadata": {
        "id": "MnbhieEnFGpS"
      }
    },
    {
      "cell_type": "code",
      "source": [
        "#07_get_list\n",
        "def main():\n",
        "  lst = []\n",
        "  val = input(\"Enter a value to add to the list\")\n",
        "  while val:\n",
        "    lst.append(val)\n",
        "    val = input(\"Enter a value to add to the list\")\n",
        "  print(\"Here is the list\",lst)\n",
        "\n",
        "if __name__ == \"__main__\":\n",
        "  main()\n"
      ],
      "metadata": {
        "colab": {
          "base_uri": "https://localhost:8080/"
        },
        "id": "4eMaBsNYGJjr",
        "outputId": "f47d099d-9d65-4038-c691-83d6444a13c2"
      },
      "execution_count": 11,
      "outputs": [
        {
          "output_type": "stream",
          "name": "stdout",
          "text": [
            "Enter a value to add to the list12\n",
            "Enter a value to add to the list12\n",
            "Enter a value to add to the list12\n",
            "Enter a value to add to the list12\n",
            "Enter a value to add to the list12\n",
            "Enter a value to add to the list\n",
            "Here is the list ['12', '12', '12', '12', '12']\n"
          ]
        }
      ]
    },
    {
      "cell_type": "markdown",
      "source": [
        "# 🔰08 Shorten 🔰"
      ],
      "metadata": {
        "id": "pvz176GbGnBS"
      }
    },
    {
      "cell_type": "code",
      "source": [
        "#08_shorten\n",
        "\n",
        "MAX_LENGTH : int = 3\n",
        "\n",
        "def shorten(lst):\n",
        "  while len(lst) > MAX_LENGTH:\n",
        "    last_element = lst.pop()\n",
        "    print(last_element)\n",
        "\n",
        "\n",
        "def get_list():\n",
        "  lst = []\n",
        "  element = input(\"Enter an element to add to the list:\")\n",
        "  while element != \"\":\n",
        "    lst.append(element)\n",
        "    element = input(\"Enter an element to add to the list:\")\n",
        "  return lst\n",
        "\n",
        "def main():\n",
        "  lst = get_list()\n",
        "  shorten(lst)\n",
        "  print(lst)\n",
        "\n",
        "if __name__ == \"__main__\":\n",
        "\n",
        "  main()"
      ],
      "metadata": {
        "colab": {
          "base_uri": "https://localhost:8080/"
        },
        "id": "Mre8As8LGzaS",
        "outputId": "de9026cd-c142-4249-bbf2-2b02885dc143"
      },
      "execution_count": 14,
      "outputs": [
        {
          "output_type": "stream",
          "name": "stdout",
          "text": [
            "Enter an element to add to the list:Azeezullah\n",
            "Enter an element to add to the list:Noohpoto\n",
            "Enter an element to add to the list:\n",
            "['Azeezullah', 'Noohpoto']\n"
          ]
        }
      ]
    }
  ]
}