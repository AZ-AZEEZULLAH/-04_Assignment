{
  "nbformat": 4,
  "nbformat_minor": 0,
  "metadata": {
    "colab": {
      "provenance": [],
      "authorship_tag": "ABX9TyNu9IIyvSG7ezBMEFVQwLIw",
      "include_colab_link": true
    },
    "kernelspec": {
      "name": "python3",
      "display_name": "Python 3"
    },
    "language_info": {
      "name": "python"
    }
  },
  "cells": [
    {
      "cell_type": "markdown",
      "metadata": {
        "id": "view-in-github",
        "colab_type": "text"
      },
      "source": [
        "<a href=\"https://colab.research.google.com/github/AZ-AZEEZULLAH/-04_Assignment/blob/main/1_Assignment__Projects_Basics.ipynb\" target=\"_parent\"><img src=\"https://colab.research.google.com/assets/colab-badge.svg\" alt=\"Open In Colab\"/></a>"
      ]
    },
    {
      "cell_type": "markdown",
      "source": [
        "# 🌺 00 | Joke Bot🌺"
      ],
      "metadata": {
        "id": "CHz2Vy8zYTFf"
      }
    },
    {
      "cell_type": "code",
      "source": [
        "# 00_joke_bot\n",
        "\n",
        "\n",
        "# Importing the requests module to handle HTTP requests\n",
        "import requests\n",
        "\n",
        "# Function to fetch a random joke\n",
        "def get_joke():\n",
        "    # API endpoint that provides random jokes\n",
        "    url = \"https://official-joke-api.appspot.com/random_joke\"\n",
        "\n",
        "    try:\n",
        "        # Sending a GET request to the API\n",
        "        response = requests.get(url)\n",
        "\n",
        "        # Raising an exception if the request was unsuccessful (e.g., 404 or 500 errors)\n",
        "        response.raise_for_status()\n",
        "\n",
        "        # Parsing the response data as JSON\n",
        "        data = response.json()\n",
        "\n",
        "        # Formatting and returning the joke with emojis\n",
        "        return f\"😁 {data['setup']} - {data['punchline']}\"\n",
        "\n",
        "    except requests.exceptions.RequestException as e:\n",
        "        # Handling any errors that occur during the request and returning an error message\n",
        "        return f\"🔕 Error Fetching Joke: {e}\"\n",
        "\n",
        "# Ensuring the script runs only if executed directly (not when imported as a module)\n",
        "if __name__ == \"__main__\":\n",
        "    # Calling the function and printing the joke\n",
        "    print(get_joke())\n"
      ],
      "metadata": {
        "colab": {
          "base_uri": "https://localhost:8080/"
        },
        "id": "hEp-7zJxgd5B",
        "outputId": "c19528bb-de2c-4e0f-da9f-0fdca4522400"
      },
      "execution_count": null,
      "outputs": [
        {
          "output_type": "stream",
          "name": "stdout",
          "text": [
            "😁 What was a more important invention than the first telephone? - The second one.\n"
          ]
        }
      ]
    },
    {
      "cell_type": "markdown",
      "source": [
        "# 💥01 Doube IT💥"
      ],
      "metadata": {
        "id": "u5oEzXImVbup"
      }
    },
    {
      "cell_type": "code",
      "source": [
        "# 01_double_it\n",
        "# Function\n",
        "def doube_it_number():\n",
        "    try:\n",
        "        current_value = int(input(\"Enter a Number:\"))\n",
        "        # statement\n",
        "        if current_value < 1:\n",
        "            print(\"Enter a ✅ Correct Number:\")\n",
        "            return\n",
        "\n",
        "        # loop\n",
        "        while current_value < 100:\n",
        "            current_value *= 2\n",
        "            print(current_value, end=\" \")\n",
        "\n",
        "    except ValueError:\n",
        "        print(\"Invalid input. Please enter a valid number.\")\n",
        "\n",
        "if __name__ == \"__main__\":\n",
        "    doube_it_number()\n"
      ],
      "metadata": {
        "colab": {
          "base_uri": "https://localhost:8080/"
        },
        "id": "wIXvHpS6Xd0B",
        "outputId": "ef94d6e7-d878-4553-9e80-9509fe4a66af"
      },
      "execution_count": 6,
      "outputs": [
        {
          "output_type": "stream",
          "name": "stdout",
          "text": [
            "Enter a Number:12\n",
            "24 48 96 192 "
          ]
        }
      ]
    },
    {
      "cell_type": "markdown",
      "source": [
        "#🚞02 Liftoff🚞"
      ],
      "metadata": {
        "id": "0hjypZhkYXoy"
      }
    },
    {
      "cell_type": "code",
      "source": [
        "# 02_liftoff\n",
        "# Import the time module to use sleep function for delays\n",
        "import time\n",
        "\n",
        "# Define a function called countdown_timer\n",
        "def countdown_timer():\n",
        "  # Loop from 10 down to 1 (inclusive), stepping -1 each time\n",
        "  for i in range(10, 0 , -1):\n",
        "    # Print the current number on the same line, flush=True forces it to display immediately\n",
        "    print(i, end=\" \", flush=True)\n",
        "    # Wait for 1 second before the next number\n",
        "    time.sleep(1)\n",
        "\n",
        "  # After the countdown ends, print Liftoff with a rocket emoji\n",
        "  print(\"🚀 Liftoff!\")\n",
        "\n",
        "# Check if this script is being run directly (not imported)\n",
        "if __name__ == \"__main__\":\n",
        "  # Call the countdown_timer function to start the countdown\n",
        "  countdown_timer()\n"
      ],
      "metadata": {
        "colab": {
          "base_uri": "https://localhost:8080/"
        },
        "id": "c7G3WkUfaY85",
        "outputId": "d4a9875a-14aa-4381-dd02-c8d7298bf66c"
      },
      "execution_count": 14,
      "outputs": [
        {
          "output_type": "stream",
          "name": "stdout",
          "text": [
            "10 9 8 7 6 5 4 3 2 1 🚀 Liftoff!\n"
          ]
        }
      ]
    },
    {
      "cell_type": "markdown",
      "source": [
        "# 🛹03 Guess My Number🛹"
      ],
      "metadata": {
        "id": "q-zV0gJ_bTRZ"
      }
    },
    {
      "cell_type": "code",
      "source": [
        "# 03_guess_my_number\n",
        "\n",
        "# Importing the random module to generate a random number\n",
        "import random\n",
        "\n",
        "# Define the main function that contains the game logic\n",
        "def guess_my_number():\n",
        "  # Generate a random number between 1 and 100\n",
        "  secret_number = random.randint(1, 100)\n",
        "\n",
        "  # Initialize the number of attempts the user has made\n",
        "  attempts = 0\n",
        "\n",
        "  # Print an initial message to the player\n",
        "  print(\"Guess a number between 1 and 100\")\n",
        "\n",
        "  # Start an infinite loop to keep asking the user until the correct guess\n",
        "  while True:\n",
        "    try:\n",
        "      # Ask the user to enter a guess and convert it to an integer\n",
        "      guess = int(input(\"Enter your guess:\"))\n",
        "\n",
        "      # Increment the attempt count\n",
        "      attempts += 1\n",
        "\n",
        "      # Check if the guess is less than the secret number\n",
        "      if guess < secret_number:\n",
        "        print(\"Too low! Try again.\")\n",
        "\n",
        "      # Check if the guess is greater than the secret number\n",
        "      elif guess > secret_number:\n",
        "        print(\"Too high! Try again.\")\n",
        "\n",
        "      # If the guess is equal to the secret number\n",
        "      else:\n",
        "        print(f\"Congratulations! You guessed the number {secret_number} in {attempts} attempts.\")\n",
        "        break  # Exit the loop when the number is guessed\n",
        "\n",
        "    # If the input is not a valid integer, show an error message\n",
        "    except ValueError:\n",
        "      print(\"Invalid input. Please enter a valid number.\")\n",
        "\n",
        "# This checks if the script is being run directly (not imported)\n",
        "if __name__ == \"__main__\":\n",
        "  guess_my_number()\n"
      ],
      "metadata": {
        "colab": {
          "base_uri": "https://localhost:8080/"
        },
        "id": "7Q7KFmv1eOwo",
        "outputId": "463377ec-7342-4248-df26-c8d84b48389f"
      },
      "execution_count": 20,
      "outputs": [
        {
          "output_type": "stream",
          "name": "stdout",
          "text": [
            "Guess a number between 1 and 100\n",
            "Enter your guess:80\n",
            "Too low! Try again.\n",
            "Enter your guess:90\n",
            "Too high! Try again.\n",
            "Enter your guess:89\n",
            "Too high! Try again.\n",
            "Enter your guess:88\n",
            "Too high! Try again.\n",
            "Enter your guess:87\n",
            "Too high! Try again.\n",
            "Enter your guess:86\n",
            "Too high! Try again.\n",
            "Enter your guess:85\n",
            "Too high! Try again.\n",
            "Enter your guess:84\n",
            "Too high! Try again.\n",
            "Enter your guess:83\n",
            "Too high! Try again.\n",
            "Enter your guess:82\n",
            "Too high! Try again.\n",
            "Enter your guess:81\n",
            "Congratulations! You guessed the number 81 in 11 attempts.\n"
          ]
        }
      ]
    },
    {
      "cell_type": "markdown",
      "source": [
        "#🚖04 Random Number🚖"
      ],
      "metadata": {
        "id": "2saeUjr_fXQA"
      }
    },
    {
      "cell_type": "code",
      "source": [
        "# 04_random_number\n",
        "\n",
        "# Importing the random module to generate random numbers\n",
        "import random\n",
        "\n",
        "# Defining a function called random_number\n",
        "def random_number():\n",
        "  # Printing the title without a newline at the end (so numbers appear on the same line)\n",
        "  print(\"Random Number Generator:\", end=\" \")\n",
        "\n",
        "  # Using list comprehension to generate 10 random integers between 1 and 100\n",
        "  # The asterisk * unpacks the list, so numbers are printed with spaces between them\n",
        "  print(*[random.randint(1, 100) for _ in range(10)])\n",
        "\n",
        "# This condition ensures the function only runs when this file is executed directly\n",
        "if __name__ == \"__main__\":\n",
        "  random_number()  # Calling the function to print 10 random numbers\n"
      ],
      "metadata": {
        "colab": {
          "base_uri": "https://localhost:8080/"
        },
        "id": "6YQCtAQpi7Jw",
        "outputId": "73a3934b-f4c6-4299-9b72-cb3eed823472"
      },
      "execution_count": 28,
      "outputs": [
        {
          "output_type": "stream",
          "name": "stdout",
          "text": [
            "Random Number Generator: 18 38 48 90 6 58 83 83 62 23\n"
          ]
        }
      ]
    }
  ]
}